{
 "cells": [
  {
   "cell_type": "code",
   "execution_count": null,
   "metadata": {},
   "outputs": [],
   "source": [
    "# default_exp core"
   ]
  },
  {
   "cell_type": "markdown",
   "metadata": {},
   "source": [
    "# Classes\n",
    "\n",
    "> Defines all the relevant classes for the games.   \n",
    "> This includes the card, deck, player and rules."
   ]
  },
  {
   "cell_type": "code",
   "execution_count": null,
   "metadata": {},
   "outputs": [],
   "source": [
    "#hide\n",
    "from nbdev.showdoc import *\n",
    "%load_ext autoreload\n",
    "%autoreload 2"
   ]
  },
  {
   "cell_type": "code",
   "execution_count": null,
   "metadata": {},
   "outputs": [],
   "source": [
    "#export\n",
    "import functools\n",
    "import random"
   ]
  },
  {
   "cell_type": "code",
   "execution_count": null,
   "metadata": {},
   "outputs": [],
   "source": [
    "#export\n",
    "@functools.total_ordering\n",
    "class Card():\n",
    "    def __init__(self, value, color):\n",
    "        self.value = value\n",
    "        self.color = color\n",
    "        self.is_trump = False\n",
    "        \n",
    "        self._face_matching = {11:'Jack',\n",
    "                          12:'Queen',\n",
    "                          13:'King',\n",
    "                          14: 'Ace'}\n",
    "        \n",
    "    def make_trump(self):\n",
    "        \"Makes a card to a trump card at the beginning of a round.\"\n",
    "        self.is_trump = True\n",
    "        \n",
    "    def _matches_color(self,other):\n",
    "        if not isinstance(other, Card):\n",
    "            raise NotImplementedError\n",
    "        return self.color == other.color\n",
    "        \n",
    "    def __eq__(self, other):\n",
    "        if not isinstance(other, Card):\n",
    "            raise NotImplementedError\n",
    "        return self.value == other.value\n",
    "    \n",
    "    def __gt__(self, other):\n",
    "        if not isinstance(other, Card):\n",
    "            raise NotImplementedError\n",
    "        elif (self.is_trump == True) & (other.is_trump == False):\n",
    "            return True\n",
    "        else:\n",
    "            return self.value >= other.value\n",
    "        \n",
    "    def __repr__(self):\n",
    "        val = self.value if self.value not in self._face_matching.keys() else self._face_matching.get(self.value)\n",
    "        return f'Card({val}, {self.color}, trump={self.is_trump})'"
   ]
  },
  {
   "cell_type": "code",
   "execution_count": null,
   "metadata": {},
   "outputs": [
    {
     "data": {
      "text/markdown": [
       "<h4 id=\"make_trumps\" class=\"doc_header\"><code>make_trumps</code><a href=\"__main__.py#L2\" class=\"source_link\" style=\"float:right\">[source]</a></h4>\n",
       "\n",
       "> <code>make_trumps</code>(**`players`**, **`trump`**)\n",
       "\n"
      ],
      "text/plain": [
       "<IPython.core.display.Markdown object>"
      ]
     },
     "metadata": {},
     "output_type": "display_data"
    }
   ],
   "source": [
    "show_doc(make_trumps)"
   ]
  },
  {
   "cell_type": "code",
   "execution_count": null,
   "metadata": {},
   "outputs": [],
   "source": [
    "#export\n",
    "CARD_VALUES = [i for i in range(6,15)]\n",
    "CARD_COLORS = ['heart', 'spade', 'club', 'diamond']"
   ]
  },
  {
   "cell_type": "code",
   "execution_count": null,
   "metadata": {},
   "outputs": [
    {
     "data": {
      "text/plain": [
       "Card(Ace, heart, trump=False)"
      ]
     },
     "execution_count": null,
     "metadata": {},
     "output_type": "execute_result"
    }
   ],
   "source": [
    "#export\n",
    "def generate_random_card():\n",
    "    return Card(random.sample(CARD_VALUES,1)[0], random.sample(CARD_COLORS,1)[0])\n",
    "generate_random_card()"
   ]
  },
  {
   "cell_type": "code",
   "execution_count": null,
   "metadata": {},
   "outputs": [],
   "source": [
    "#export\n",
    "def test_if_card_has_higher_value():\n",
    "    heart_king = Card(13, 'heart')\n",
    "    heart_six = Card(6, 'heart')\n",
    "    assert heart_king > heart_six\n",
    "    \n",
    "def test_if_card_has_same_value():\n",
    "    heart_seven = Card(7, 'heart')\n",
    "    spade_seven = Card(7, 'spade')\n",
    "    assert heart_seven == spade_seven\n",
    "    \n",
    "def test_if_color_matches():\n",
    "    heart_seven = Card(7, 'heart')\n",
    "    heart_six = Card(6, 'heart')\n",
    "    assert heart_seven._matches_color(heart_six)\n",
    "    \n",
    "def test_if_lower_trump_wins():\n",
    "    heart_six = Card(6,'heart')\n",
    "    heart_seven = Card(7, 'heart')\n",
    "    heart_six.make_trump()\n",
    "    assert heart_six > heart_seven\n",
    "    \n",
    "def test_if_lower_trump_loses():\n",
    "    heart_six = Card(6,'heart')\n",
    "    heart_seven = Card(7, 'heart')\n",
    "    heart_six.make_trump()\n",
    "    heart_seven.make_trump()\n",
    "    assert (heart_six > heart_seven) == False\n",
    "    \n",
    "test_if_card_has_higher_value()\n",
    "test_if_card_has_same_value()\n",
    "test_if_color_matches()\n",
    "test_if_lower_trump_wins()\n",
    "test_if_lower_trump_loses()"
   ]
  },
  {
   "cell_type": "code",
   "execution_count": null,
   "metadata": {},
   "outputs": [],
   "source": [
    "#export\n",
    "def gen_card_deck():\n",
    "    card_deck = []\n",
    "    for val in CARD_VALUES:\n",
    "        for c in CARD_COLORS:\n",
    "            card_deck.append(Card(val,c))\n",
    "    return card_deck\n",
    "assert len(gen_card_deck()) == 36"
   ]
  },
  {
   "cell_type": "code",
   "execution_count": null,
   "metadata": {},
   "outputs": [],
   "source": [
    "#export\n",
    "class Player:\n",
    "    def __init__(self, name):\n",
    "        self.name = name\n",
    "        self._is_turn = False\n",
    "        self._under_attack = False\n",
    "        self._can_attack = False\n",
    "        self.hand = []\n",
    "\n",
    "        \n",
    "    def start_turn(self):\n",
    "        self._is_turn = True\n",
    "        \n",
    "    def end_turn(self):\n",
    "        self._is_turn = False\n",
    "        \n",
    "    def draw_card(self, card):\n",
    "        self.hand.append(card)\n",
    "\n",
    "    def determine_possible_moves(self, table_cards):\n",
    "        pass\n",
    "        \n",
    "    def play_cards(self):\n",
    "        pass \n",
    "    \n",
    "    def pick_up_cards(self, table_cards):\n",
    "        pass\n",
    "    \n",
    "    def cover_cards(self, table_cards):\n",
    "        pass\n",
    "    \n",
    "    def attack_neighour(self):\n",
    "        pass\n",
    "        \n",
    "        \n",
    "    def __repr__(self):\n",
    "        return f'Payer(name={self.name})'"
   ]
  },
  {
   "cell_type": "code",
   "execution_count": null,
   "metadata": {},
   "outputs": [],
   "source": [
    "#export\n",
    "def iterate_cards(players):\n",
    "    for p in players:\n",
    "        for c in p.hand:\n",
    "            yield c"
   ]
  },
  {
   "cell_type": "code",
   "execution_count": null,
   "metadata": {},
   "outputs": [],
   "source": [
    "#export\n",
    "def deal_starting_hand(players, cards):\n",
    "    random.shuffle(cards)\n",
    "    for _ in range(6):\n",
    "        for p in players:            \n",
    "            p.draw_card(cards.pop())"
   ]
  },
  {
   "cell_type": "code",
   "execution_count": null,
   "metadata": {},
   "outputs": [],
   "source": [
    "#export\n",
    "def draw_trump_card(cards):\n",
    "    trump = cards.pop()\n",
    "    cards.insert(0,trump)\n",
    "    return trump.color"
   ]
  },
  {
   "cell_type": "code",
   "execution_count": null,
   "metadata": {},
   "outputs": [],
   "source": [
    "#export\n",
    "def determine_starting_player(players):\n",
    "    beginner = sorted(players, key=lambda x: [y for y in x.hand if y.is_trump])[0]\n",
    "    beginner.start_turn() #TODO: Fix for situation when player has no trump card!"
   ]
  },
  {
   "cell_type": "code",
   "execution_count": null,
   "metadata": {},
   "outputs": [],
   "source": [
    "#export\n",
    "def make_trumps(players, trump):\n",
    "    for card in iterate_cards(players):\n",
    "        if card.color == trump:\n",
    "            card.make_trump()"
   ]
  },
  {
   "cell_type": "code",
   "execution_count": null,
   "metadata": {},
   "outputs": [],
   "source": [
    "#export\n",
    "def draw_cards(players,cards):\n",
    "    while min([len(p.hand) for p in players]) < 6:\n",
    "        for p in players:\n",
    "            p.draw_card(cards.pop()) #TODO: Make sure drawing is in the right order!\n",
    "            if not cards:\n",
    "                break"
   ]
  },
  {
   "cell_type": "code",
   "execution_count": null,
   "metadata": {},
   "outputs": [
    {
     "name": "stdout",
     "output_type": "stream",
     "text": [
      "Converted 00_core.ipynb.\n",
      "Converted 01_Game.ipynb.\n",
      "Converted index.ipynb.\n"
     ]
    }
   ],
   "source": [
    "# hide\n",
    "from nbdev.export import notebook2script; notebook2script()"
   ]
  },
  {
   "cell_type": "code",
   "execution_count": null,
   "metadata": {},
   "outputs": [],
   "source": []
  }
 ],
 "metadata": {
  "kernelspec": {
   "display_name": "Python 3",
   "language": "python",
   "name": "python3"
  }
 },
 "nbformat": 4,
 "nbformat_minor": 2
}
