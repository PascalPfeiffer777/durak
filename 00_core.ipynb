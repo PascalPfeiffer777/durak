{
 "cells": [
  {
   "cell_type": "code",
   "execution_count": null,
   "metadata": {},
   "outputs": [],
   "source": [
    "# default_exp core"
   ]
  },
  {
   "cell_type": "markdown",
   "metadata": {},
   "source": [
    "# card\n",
    "\n",
    "> Defines the card class."
   ]
  },
  {
   "cell_type": "code",
   "execution_count": null,
   "metadata": {},
   "outputs": [
    {
     "name": "stdout",
     "output_type": "stream",
     "text": [
      "The autoreload extension is already loaded. To reload it, use:\n",
      "  %reload_ext autoreload\n"
     ]
    }
   ],
   "source": [
    "#hide\n",
    "from nbdev.showdoc import *\n",
    "%load_ext autoreload\n",
    "%autoreload 2"
   ]
  },
  {
   "cell_type": "code",
   "execution_count": null,
   "metadata": {},
   "outputs": [],
   "source": [
    "#export\n",
    "import functools\n",
    "import random"
   ]
  },
  {
   "cell_type": "code",
   "execution_count": null,
   "metadata": {},
   "outputs": [],
   "source": [
    "#export\n",
    "@functools.total_ordering\n",
    "class Card():\n",
    "    def __init__(self, value, color):\n",
    "        self.value = value\n",
    "        self.color = color\n",
    "        self.is_trump = False\n",
    "        \n",
    "    def make_trump(self):\n",
    "        \"Makes a card to a trump card at the beginning of a round.\"\n",
    "        self.is_trump = True\n",
    "        \n",
    "    def _matches_color(self,other):\n",
    "        if not isinstance(other, Card):\n",
    "            raise NotImplementedError\n",
    "        return self.color == other.color\n",
    "        \n",
    "    def __eq__(self, other):\n",
    "        if not isinstance(other, Card):\n",
    "            raise NotImplementedError\n",
    "        return self.value == other.value\n",
    "    \n",
    "    def __gt__(self, other):\n",
    "        if not isinstance(other, Card):\n",
    "            raise NotImplementedError\n",
    "        return self.value >= other.value\n",
    "        \n",
    "    def __repr__(self):\n",
    "        return f'Card({self.value}, {self.color}, trump={self.is_trump})'\n",
    "    "
   ]
  },
  {
   "cell_type": "code",
   "execution_count": null,
   "metadata": {},
   "outputs": [
    {
     "data": {
      "text/plain": [
       "Card(6, heart, trump=False)"
      ]
     },
     "execution_count": null,
     "metadata": {},
     "output_type": "execute_result"
    }
   ],
   "source": [
    "generate_random_card()"
   ]
  },
  {
   "cell_type": "code",
   "execution_count": null,
   "metadata": {},
   "outputs": [],
   "source": [
    "def generate_random_card():\n",
    "    possible_values = [i for i in range(6, 15)]\n",
    "    possible_colors = ['heart', 'spade', 'club', 'diamond']\n",
    "    return Card(random.sample(possible_values,1)[0], random.sample(possible_colors,1)[0])"
   ]
  },
  {
   "cell_type": "code",
   "execution_count": null,
   "metadata": {},
   "outputs": [],
   "source": [
    "#export\n",
    "def test_if_card_has_higher_value():\n",
    "    heart_seven = Card(7, 'heart')\n",
    "    heart_six = Card(6, 'heart')\n",
    "    assert heart_seven > heart_six\n",
    "    \n",
    "def test_if_card_has_same_value():\n",
    "    heart_seven = Card(7, 'heart')\n",
    "    spade_seven = Card(7, 'spade')\n",
    "    assert heart_seven == spade_seven\n",
    "    \n",
    "def test_if_color_matches():\n",
    "    heart_seven = Card(7, 'heart')\n",
    "    heart_six = Card(6, 'heart')\n",
    "    assert heart_seven._matches_color(heart_six)"
   ]
  },
  {
   "cell_type": "code",
   "execution_count": null,
   "metadata": {},
   "outputs": [],
   "source": []
  },
  {
   "cell_type": "code",
   "execution_count": null,
   "metadata": {},
   "outputs": [
    {
     "name": "stdout",
     "output_type": "stream",
     "text": [
      "Converted 00_core.ipynb.\n",
      "Converted constants.ipynb.\n",
      "Converted index.ipynb.\n"
     ]
    }
   ],
   "source": [
    "# hide\n",
    "from nbdev.export import notebook2script; notebook2script()"
   ]
  },
  {
   "cell_type": "code",
   "execution_count": null,
   "metadata": {},
   "outputs": [],
   "source": []
  }
 ],
 "metadata": {
  "kernelspec": {
   "display_name": "Python 3",
   "language": "python",
   "name": "python3"
  }
 },
 "nbformat": 4,
 "nbformat_minor": 2
}
